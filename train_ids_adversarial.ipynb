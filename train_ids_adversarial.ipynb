{
 "cells": [
  {
   "cell_type": "code",
   "execution_count": 1,
   "metadata": {},
   "outputs": [],
   "source": [
    "import numpy as np\n",
    "import pandas as pd\n",
    "from sklearn.metrics import confusion_matrix\n",
    "from sklearn.metrics import accuracy_score\n",
    "from sklearn.ensemble import RandomForestClassifier\n",
    "from sklearn.tree import DecisionTreeClassifier\n",
    "from sklearn.neighbors import KNeighborsClassifier\n",
    "from sklearn.naive_bayes import GaussianNB\n",
    "from sklearn.svm import LinearSVC\n",
    "import pickle\n",
    "import os"
   ]
  },
  {
   "cell_type": "code",
   "execution_count": 2,
   "metadata": {},
   "outputs": [],
   "source": [
    "# A function to load trained ids model from disk\n",
    "def load_model(filename):\n",
    " loaded_model = pickle.load(open(filename, 'rb'))\n",
    " return loaded_model"
   ]
  },
  {
   "cell_type": "code",
   "execution_count": 3,
   "metadata": {},
   "outputs": [],
   "source": [
    "# A function to save the model to disk\n",
    "def save_model(model,filename):    \n",
    "    pickle.dump(model, open(filename, 'wb'))"
   ]
  },
  {
   "cell_type": "code",
   "execution_count": 4,
   "metadata": {},
   "outputs": [],
   "source": [
    "# Read acutal training data\n",
    "df_data = pd.read_csv('IDS_train_2.csv')"
   ]
  },
  {
   "cell_type": "markdown",
   "metadata": {},
   "source": [
    "# Random Forest IDS Training"
   ]
  },
  {
   "cell_type": "code",
   "execution_count": 46,
   "metadata": {},
   "outputs": [],
   "source": [
    "ids_name = 'ids_model_2.sav'\n",
    "ids_ad_name = 'ids_ad_trained.sav'\n",
    "ids_ploy_ad_5_name = 'ids_poly_ad5_rf.sav'\n",
    "# ids_ploy_ad_10_name = 'ids_poly_ad_10_rf.sav'\n",
    "ids_ploy_ad_10_name = 'ids_poly_ad_10_rf_2.sav'\n",
    "ids_ploy_ad_15_name = 'ids_poly_ad_15_rf.sav'\n",
    "\n",
    "# RF IDS name for algorithm 2\n",
    "ids_poly_cycle_1 = 'ids_poly_cycle_1_rf.sav'\n",
    "ids_poly_cycle_2 = 'ids_poly_cycle_2_rf.sav'\n",
    "ids_poly_cycle_3 = 'ids_poly_cycle_3_rf.sav'\n"
   ]
  },
  {
   "cell_type": "code",
   "execution_count": 29,
   "metadata": {},
   "outputs": [],
   "source": [
    "# Load Trained IDS Model on acutal data\n",
    "ids_model = load_model(ids_name)"
   ]
  },
  {
   "cell_type": "code",
   "execution_count": 71,
   "metadata": {},
   "outputs": [],
   "source": [
    "adv_prediction_befor = ids_model.predict(df_ad)"
   ]
  },
  {
   "cell_type": "code",
   "execution_count": 72,
   "metadata": {},
   "outputs": [
    {
     "name": "stdout",
     "output_type": "stream",
     "text": [
      "[[    0     0]\n",
      " [88928 13472]]\n"
     ]
    }
   ],
   "source": [
    "print(confusion_matrix(np.ones(len(df_ad)),adv_prediction_befor))"
   ]
  },
  {
   "cell_type": "code",
   "execution_count": 35,
   "metadata": {},
   "outputs": [],
   "source": [
    "actual_labels = np.ones(len(df_ad))"
   ]
  },
  {
   "cell_type": "code",
   "execution_count": 74,
   "metadata": {},
   "outputs": [
    {
     "data": {
      "text/plain": [
       "0.1315625"
      ]
     },
     "execution_count": 74,
     "metadata": {},
     "output_type": "execute_result"
    }
   ],
   "source": [
    "accuracy_score(actual_labels,adv_prediction_befor)"
   ]
  },
  {
   "cell_type": "markdown",
   "metadata": {},
   "source": [
    "### IDS training with training data + adversarial data "
   ]
  },
  {
   "cell_type": "code",
   "execution_count": 8,
   "metadata": {},
   "outputs": [],
   "source": [
    "# Read RF adversarial data\n",
    "df_ad = pd.read_csv('adv_data.csv')"
   ]
  },
  {
   "cell_type": "code",
   "execution_count": null,
   "metadata": {},
   "outputs": [],
   "source": [
    "df_ad['Label'] = actual_labels"
   ]
  },
  {
   "cell_type": "code",
   "execution_count": 38,
   "metadata": {},
   "outputs": [],
   "source": [
    "# Combine actual training data with adversarial data\n",
    "df_combine = pd.concat([df_ad,df_data])"
   ]
  },
  {
   "cell_type": "code",
   "execution_count": 39,
   "metadata": {},
   "outputs": [
    {
     "name": "stdout",
     "output_type": "stream",
     "text": [
      "400402\n",
      "279067\n"
     ]
    }
   ],
   "source": [
    "print(df_combine[df_combine['Label'] == 0]['Label'].count())\n",
    "print(df_combine[df_combine['Label'] == 1]['Label'].count())"
   ]
  },
  {
   "cell_type": "code",
   "execution_count": 78,
   "metadata": {},
   "outputs": [],
   "source": [
    "y = df_combine['Label']\n",
    "X = df_combine.drop(['Label'],axis=1)"
   ]
  },
  {
   "cell_type": "code",
   "execution_count": 79,
   "metadata": {},
   "outputs": [],
   "source": [
    "ids_adv_rf = RandomForestClassifier()"
   ]
  },
  {
   "cell_type": "code",
   "execution_count": 80,
   "metadata": {},
   "outputs": [
    {
     "data": {
      "text/plain": [
       "RandomForestClassifier()"
      ]
     },
     "execution_count": 80,
     "metadata": {},
     "output_type": "execute_result"
    }
   ],
   "source": [
    "ids_adv_rf.fit(X,y)"
   ]
  },
  {
   "cell_type": "code",
   "execution_count": 81,
   "metadata": {},
   "outputs": [],
   "source": [
    "save_model(ids_adv_rf,ids_ad_name)"
   ]
  },
  {
   "cell_type": "markdown",
   "metadata": {},
   "source": [
    "### IDS Training for Actual Training Data + Adversarial Data + Polymorphic Adversarial Data(Mutated 5 Features) "
   ]
  },
  {
   "cell_type": "code",
   "execution_count": 122,
   "metadata": {},
   "outputs": [],
   "source": [
    "df_poly_ad = pd.read_csv('poly_ad_data.csv')"
   ]
  },
  {
   "cell_type": "code",
   "execution_count": 123,
   "metadata": {},
   "outputs": [],
   "source": [
    "# Add label column with value one\n",
    "df_poly_ad['Label'] = np.ones(len(df_poly_ad))"
   ]
  },
  {
   "cell_type": "code",
   "execution_count": 124,
   "metadata": {},
   "outputs": [],
   "source": [
    "# Combine actual + adversarial + poly_ad\n",
    "df_combine_ad_poly = pd.concat([df_combine,df_poly_ad])"
   ]
  },
  {
   "cell_type": "code",
   "execution_count": 125,
   "metadata": {},
   "outputs": [],
   "source": [
    "y = df_combine_ad_poly['Label']\n",
    "X = df_combine_ad_poly.drop(['Label'],axis=1)"
   ]
  },
  {
   "cell_type": "code",
   "execution_count": 126,
   "metadata": {},
   "outputs": [],
   "source": [
    "ids_poly5_rf = RandomForestClassifier(random_state=100)"
   ]
  },
  {
   "cell_type": "code",
   "execution_count": 127,
   "metadata": {},
   "outputs": [
    {
     "data": {
      "text/plain": [
       "RandomForestClassifier(random_state=100)"
      ]
     },
     "execution_count": 127,
     "metadata": {},
     "output_type": "execute_result"
    }
   ],
   "source": [
    "ids_poly5_rf.fit(X,y)"
   ]
  },
  {
   "cell_type": "code",
   "execution_count": 128,
   "metadata": {},
   "outputs": [],
   "source": [
    "save_model(ids_poly5_rf,ids_ploy_ad_5_name)"
   ]
  },
  {
   "cell_type": "markdown",
   "metadata": {},
   "source": [
    "### IDS Training for Actual Training Data + Adversarial Data + Polymorphic Adversarial Data(Mutated 10 Features) "
   ]
  },
  {
   "cell_type": "code",
   "execution_count": 141,
   "metadata": {},
   "outputs": [],
   "source": [
    "df_poly_10 = pd.read_csv('poly_ad_data.csv')"
   ]
  },
  {
   "cell_type": "code",
   "execution_count": 142,
   "metadata": {},
   "outputs": [],
   "source": [
    "# Add label column with value one\n",
    "df_poly_10['Label'] = np.ones(len(df_poly_10))"
   ]
  },
  {
   "cell_type": "code",
   "execution_count": 143,
   "metadata": {},
   "outputs": [],
   "source": [
    "# Combine actual + adversarial + poly_ad\n",
    "df_combine_poly_10 = pd.concat([df_combine,df_poly_10])"
   ]
  },
  {
   "cell_type": "code",
   "execution_count": 147,
   "metadata": {},
   "outputs": [],
   "source": [
    "y_10 = df_combine_poly_10['Label']\n",
    "X_10 = df_combine_poly_10.drop(['Label'],axis=1)"
   ]
  },
  {
   "cell_type": "code",
   "execution_count": 148,
   "metadata": {},
   "outputs": [],
   "source": [
    "ids_poly_10_rf = RandomForestClassifier()"
   ]
  },
  {
   "cell_type": "code",
   "execution_count": 137,
   "metadata": {},
   "outputs": [],
   "source": [
    "# ids_poly_10_rf = RandomForestClassifier(random_state=100)"
   ]
  },
  {
   "cell_type": "code",
   "execution_count": 149,
   "metadata": {},
   "outputs": [
    {
     "data": {
      "text/plain": [
       "RandomForestClassifier()"
      ]
     },
     "execution_count": 149,
     "metadata": {},
     "output_type": "execute_result"
    }
   ],
   "source": [
    "ids_poly_10_rf.fit(X_10,y_10)"
   ]
  },
  {
   "cell_type": "code",
   "execution_count": 150,
   "metadata": {},
   "outputs": [],
   "source": [
    "save_model(ids_poly_10_rf,ids_ploy_ad_10_name)"
   ]
  },
  {
   "cell_type": "markdown",
   "metadata": {},
   "source": [
    "### IDS Training for Actual Training Data + Adversarial Data + Polymorphic Adversarial Data(Mutated 15 Features)  "
   ]
  },
  {
   "cell_type": "code",
   "execution_count": 19,
   "metadata": {},
   "outputs": [],
   "source": [
    "df_poly_15 = pd.read_csv('poly_ad_data.csv')"
   ]
  },
  {
   "cell_type": "code",
   "execution_count": 170,
   "metadata": {},
   "outputs": [
    {
     "data": {
      "text/plain": [
       "(204800, 41)"
      ]
     },
     "execution_count": 170,
     "metadata": {},
     "output_type": "execute_result"
    }
   ],
   "source": [
    "df_poly_15.shape"
   ]
  },
  {
   "cell_type": "code",
   "execution_count": 20,
   "metadata": {},
   "outputs": [],
   "source": [
    "# Add label column with value one\n",
    "df_poly_15['Label'] = np.ones(len(df_poly_15))"
   ]
  },
  {
   "cell_type": "code",
   "execution_count": 21,
   "metadata": {},
   "outputs": [],
   "source": [
    "# Combine actual + adversarial + poly_ad\n",
    "df_combine_poly_15 = pd.concat([df_combine,df_poly_15])"
   ]
  },
  {
   "cell_type": "code",
   "execution_count": 175,
   "metadata": {},
   "outputs": [
    {
     "data": {
      "text/plain": [
       "(730669, 42)"
      ]
     },
     "execution_count": 175,
     "metadata": {},
     "output_type": "execute_result"
    }
   ],
   "source": [
    "df_combine.shape"
   ]
  },
  {
   "cell_type": "code",
   "execution_count": 176,
   "metadata": {},
   "outputs": [],
   "source": [
    "y_15 = df_combine_poly_15['Label']\n",
    "X_15 = df_combine_poly_15.drop(['Label'],axis=1)"
   ]
  },
  {
   "cell_type": "code",
   "execution_count": 177,
   "metadata": {},
   "outputs": [],
   "source": [
    "ids_poly_15_rf = RandomForestClassifier()"
   ]
  },
  {
   "cell_type": "code",
   "execution_count": 178,
   "metadata": {},
   "outputs": [
    {
     "data": {
      "text/plain": [
       "RandomForestClassifier()"
      ]
     },
     "execution_count": 178,
     "metadata": {},
     "output_type": "execute_result"
    }
   ],
   "source": [
    "ids_poly_15_rf.fit(X_15,y_15)"
   ]
  },
  {
   "cell_type": "code",
   "execution_count": 179,
   "metadata": {},
   "outputs": [],
   "source": [
    "save_model(ids_poly_15_rf,ids_ploy_ad_15_name)"
   ]
  },
  {
   "cell_type": "code",
   "execution_count": 23,
   "metadata": {},
   "outputs": [
    {
     "name": "stdout",
     "output_type": "stream",
     "text": [
      "400402\n",
      "535067\n"
     ]
    }
   ],
   "source": [
    "print(df_combine_poly_15[df_combine_poly_15['Label'] == 0]['Label'].count())\n",
    "print(df_combine_poly_15[df_combine_poly_15['Label'] == 1]['Label'].count())"
   ]
  },
  {
   "cell_type": "markdown",
   "metadata": {},
   "source": [
    "### RF Algo 2 - IDS Training "
   ]
  },
  {
   "cell_type": "markdown",
   "metadata": {},
   "source": [
    "#### Cycle 1 - Changed 3 features "
   ]
  },
  {
   "cell_type": "code",
   "execution_count": 35,
   "metadata": {},
   "outputs": [],
   "source": [
    "df_poly_cycle_1 = pd.read_csv('poly_ad_data_algo_2.csv')"
   ]
  },
  {
   "cell_type": "code",
   "execution_count": 38,
   "metadata": {},
   "outputs": [],
   "source": [
    "# Add label column with value one\n",
    "df_poly_cycle_1['Label'] = np.ones(len(df_poly_cycle_1))"
   ]
  },
  {
   "cell_type": "code",
   "execution_count": 39,
   "metadata": {},
   "outputs": [],
   "source": [
    "# Combine actual + adversarial + poly_ad\n",
    "df_combine_poly_cycle_1 = pd.concat([df_combine,df_poly_cycle_1])"
   ]
  },
  {
   "cell_type": "code",
   "execution_count": 43,
   "metadata": {},
   "outputs": [],
   "source": [
    "y_cycle_1 = df_combine_poly_cycle_1['Label']\n",
    "X_cycle_1 = df_combine_poly_cycle_1.drop(['Label'],axis=1)"
   ]
  },
  {
   "cell_type": "code",
   "execution_count": 44,
   "metadata": {},
   "outputs": [],
   "source": [
    "ids_poly_cycle_1_rf = RandomForestClassifier()"
   ]
  },
  {
   "cell_type": "code",
   "execution_count": 45,
   "metadata": {},
   "outputs": [
    {
     "data": {
      "text/plain": [
       "RandomForestClassifier()"
      ]
     },
     "execution_count": 45,
     "metadata": {},
     "output_type": "execute_result"
    }
   ],
   "source": [
    "ids_poly_cycle_1_rf.fit(X_cycle_1,y_cycle_1)"
   ]
  },
  {
   "cell_type": "code",
   "execution_count": 47,
   "metadata": {},
   "outputs": [],
   "source": [
    "save_model(ids_poly_cycle_1_rf,ids_poly_cycle_1)"
   ]
  },
  {
   "cell_type": "markdown",
   "metadata": {},
   "source": [
    "####  Cycle 2 - Changed 6 features  "
   ]
  },
  {
   "cell_type": "code",
   "execution_count": 61,
   "metadata": {},
   "outputs": [],
   "source": [
    "df_poly_cycle_2 = pd.read_csv('poly_ad_data_algo_2.csv')"
   ]
  },
  {
   "cell_type": "code",
   "execution_count": 62,
   "metadata": {},
   "outputs": [],
   "source": [
    "# Add label column with value one\n",
    "df_poly_cycle_2['Label'] = np.ones(len(df_poly_cycle_2))"
   ]
  },
  {
   "cell_type": "code",
   "execution_count": 63,
   "metadata": {},
   "outputs": [],
   "source": [
    "# Combine actual + adversarial + poly_ad\n",
    "df_combine_poly_cycle_2 = pd.concat([df_combine,df_poly_cycle_2])"
   ]
  },
  {
   "cell_type": "code",
   "execution_count": 64,
   "metadata": {},
   "outputs": [],
   "source": [
    "y_cycle_2 = df_combine_poly_cycle_2['Label']\n",
    "X_cycle_2 = df_combine_poly_cycle_2.drop(['Label'],axis=1)"
   ]
  },
  {
   "cell_type": "code",
   "execution_count": 65,
   "metadata": {},
   "outputs": [],
   "source": [
    "ids_poly_cycle_2_rf = RandomForestClassifier()"
   ]
  },
  {
   "cell_type": "code",
   "execution_count": 66,
   "metadata": {},
   "outputs": [
    {
     "data": {
      "text/plain": [
       "RandomForestClassifier()"
      ]
     },
     "execution_count": 66,
     "metadata": {},
     "output_type": "execute_result"
    }
   ],
   "source": [
    "ids_poly_cycle_2_rf.fit(X_cycle_2,y_cycle_2)"
   ]
  },
  {
   "cell_type": "code",
   "execution_count": 67,
   "metadata": {},
   "outputs": [],
   "source": [
    "save_model(ids_poly_cycle_2_rf,ids_poly_cycle_2)"
   ]
  },
  {
   "cell_type": "markdown",
   "metadata": {},
   "source": []
  },
  {
   "cell_type": "markdown",
   "metadata": {},
   "source": [
    "# Decision Tree IDS Training"
   ]
  },
  {
   "cell_type": "code",
   "execution_count": 5,
   "metadata": {},
   "outputs": [],
   "source": [
    "df_DT_ad = pd.read_csv('adv_data_DT.csv')"
   ]
  },
  {
   "cell_type": "code",
   "execution_count": 6,
   "metadata": {},
   "outputs": [],
   "source": [
    "ids_DT_name = 'ids_dt.sav'\n",
    "\n",
    "ids_DT_ad_name = 'ids_DT_ad.sav'\n",
    "\n",
    "ids_ploy_5_DT_name = 'ids_poly_5_DT.sav'\n",
    "\n",
    "ids_ploy_ad_10_name = 'ids_poly_10_DT.sav'\n",
    "ids_ploy_15_DT_name = 'ids_poly_15_DT.sav'\n",
    "\n",
    "# IDS name for algorithm 2\n",
    "ids_poly_cycle_1_DT_name = 'ids_cycle_1_DT.sav'\n",
    "ids_poly_cycle_2_DT_name = 'ids_cycle_2_DT.sav'\n",
    "ids_poly_cycle_3_DT_name = 'ids_cycle_3_DT.sav'"
   ]
  },
  {
   "cell_type": "code",
   "execution_count": 7,
   "metadata": {},
   "outputs": [],
   "source": [
    "# Load Trained IDS Model on acutal data\n",
    "ids_DT_model = load_model(ids_DT_name)"
   ]
  },
  {
   "cell_type": "markdown",
   "metadata": {},
   "source": [
    "#### IDS training with training data + adversarial data  "
   ]
  },
  {
   "cell_type": "code",
   "execution_count": 8,
   "metadata": {},
   "outputs": [
    {
     "name": "stdout",
     "output_type": "stream",
     "text": [
      "400402\n",
      "279067\n"
     ]
    }
   ],
   "source": [
    "df_DT_ad['Label'] = np.ones(len(df_DT_ad))\n",
    "# Combine actual training data with adversarial data\n",
    "df_DT_combine = pd.concat([df_DT_ad,df_data])\n",
    "\n",
    "print(df_DT_combine[df_DT_combine['Label'] == 0]['Label'].count())\n",
    "print(df_DT_combine[df_DT_combine['Label'] == 1]['Label'].count())\n",
    "\n"
   ]
  },
  {
   "cell_type": "code",
   "execution_count": 10,
   "metadata": {},
   "outputs": [],
   "source": [
    "y_DT = df_DT_combine['Label']\n",
    "X_DT = df_DT_combine.drop(['Label'],axis=1)"
   ]
  },
  {
   "cell_type": "code",
   "execution_count": 11,
   "metadata": {},
   "outputs": [],
   "source": [
    "ids_adv_DT = DecisionTreeClassifier()\n",
    "ids_adv_DT.fit(X_DT,y_DT)\n",
    "save_model(ids_adv_DT,ids_DT_ad_name)"
   ]
  },
  {
   "cell_type": "markdown",
   "metadata": {},
   "source": [
    "#### IDS Training for Actual Training Data + Adversarial Data + Polymorphic Adversarial Data(Mutated 5 Features) "
   ]
  },
  {
   "cell_type": "code",
   "execution_count": 90,
   "metadata": {},
   "outputs": [],
   "source": [
    "df_poly_ad_DT = pd.read_csv('poly_ad_data_DT.csv')\n",
    "# Add label column with value one\n",
    "df_poly_ad_DT['Label'] = np.ones(len(df_poly_ad_DT))\n",
    "# Combine actual + adversarial + poly_ad\n",
    "df_combine_poly_DT = pd.concat([df_DT_combine,df_poly_ad_DT])\n",
    "\n"
   ]
  },
  {
   "cell_type": "code",
   "execution_count": 92,
   "metadata": {},
   "outputs": [],
   "source": [
    "y_DT_5 = df_combine_poly_DT['Label']\n",
    "X_DT_5 = df_combine_poly_DT.drop(['Label'],axis=1)"
   ]
  },
  {
   "cell_type": "code",
   "execution_count": 93,
   "metadata": {},
   "outputs": [],
   "source": [
    "ids_poly5_DT = DecisionTreeClassifier()\n",
    "ids_poly5_DT.fit(X_DT_5,y_DT_5)\n",
    "save_model(ids_poly5_DT,ids_ploy_5_DT_name)"
   ]
  },
  {
   "cell_type": "markdown",
   "metadata": {},
   "source": [
    "#### IDS Training for Actual Training Data + Adversarial Data + Polymorphic Adversarial Data(Mutated 10 Features)  "
   ]
  },
  {
   "cell_type": "code",
   "execution_count": 94,
   "metadata": {},
   "outputs": [],
   "source": [
    "df_poly_10_DT = pd.read_csv('poly_ad_data_DT.csv')"
   ]
  },
  {
   "cell_type": "code",
   "execution_count": 96,
   "metadata": {},
   "outputs": [],
   "source": [
    "# Add label column with value one\n",
    "df_poly_10_DT['Label'] = np.ones(len(df_poly_10_DT))\n",
    "\n",
    "# Combine actual + adversarial + poly_ad\n",
    "df_combine_poly_10_DT = pd.concat([df_DT_combine,df_poly_10_DT])\n",
    "y_10_DT = df_combine_poly_10_DT['Label']\n",
    "X_10_DT = df_combine_poly_10_DT.drop(['Label'],axis=1)"
   ]
  },
  {
   "cell_type": "code",
   "execution_count": 97,
   "metadata": {},
   "outputs": [],
   "source": [
    "ids_poly_10_DT = DecisionTreeClassifier()\n",
    "ids_poly_10_DT.fit(X_10_DT,y_10_DT)\n",
    "save_model(ids_poly_10_DT,ids_ploy_ad_10_name)"
   ]
  },
  {
   "cell_type": "markdown",
   "metadata": {},
   "source": [
    "#### IDS Training for Actual Training Data + Adversarial Data + Polymorphic Adversarial Data(Mutated 15 Features)   "
   ]
  },
  {
   "cell_type": "code",
   "execution_count": 46,
   "metadata": {},
   "outputs": [],
   "source": [
    "# df_poly_15_DT = pd.read_csv('poly_ad_data_DT.csv')"
   ]
  },
  {
   "cell_type": "code",
   "execution_count": 47,
   "metadata": {},
   "outputs": [],
   "source": [
    "# df_poly_15_DT['Label'] = np.ones(len(df_poly_15_DT))\n",
    "\n",
    "# # Combine actual + adversarial + poly_ad\n",
    "# df_combine_poly_15_DT = pd.concat([df_DT_combine,df_poly_15_DT])\n",
    "# y_15_DT = df_combine_poly_15_DT['Label']\n",
    "# X_15_DT = df_combine_poly_15_DT.drop(['Label'],axis=1)"
   ]
  },
  {
   "cell_type": "code",
   "execution_count": 48,
   "metadata": {},
   "outputs": [],
   "source": [
    "# ids_poly_15_DT = DecisionTreeClassifier()\n",
    "# ids_poly_15_DT.fit(X_15_DT,y_15_DT)\n",
    "# save_model(ids_poly_15_DT,ids_ploy_15_DT_name)"
   ]
  },
  {
   "cell_type": "markdown",
   "metadata": {},
   "source": [
    "### DT - Algo 2 - IDS Training "
   ]
  },
  {
   "cell_type": "markdown",
   "metadata": {},
   "source": [
    "### Cycle 1 "
   ]
  },
  {
   "cell_type": "code",
   "execution_count": 57,
   "metadata": {},
   "outputs": [],
   "source": [
    "df_poly_cycle_1_DT = pd.read_csv('poly_data_algo2_DT.csv')\n",
    "# Add label column with value one\n",
    "df_poly_cycle_1_DT['Label'] = np.ones(len(df_poly_cycle_1_DT))\n",
    "# Combine actual + adversarial + poly_ad\n",
    "df_combine_cycle_1_DT = pd.concat([df_DT_combine,df_poly_cycle_1_DT])\n",
    "y_cycle_1_DT = df_combine_cycle_1_DT['Label']\n",
    "X_cycle_1_DT = df_combine_cycle_1_DT.drop(['Label'],axis=1)\n"
   ]
  },
  {
   "cell_type": "code",
   "execution_count": 71,
   "metadata": {},
   "outputs": [
    {
     "data": {
      "text/plain": [
       "DecisionTreeClassifier()"
      ]
     },
     "execution_count": 71,
     "metadata": {},
     "output_type": "execute_result"
    }
   ],
   "source": [
    "ids_poly_cycle_1_DT = DecisionTreeClassifier()\n",
    "ids_poly_cycle_1_DT.fit(X_cycle_1_DT,y_cycle_1_DT)"
   ]
  },
  {
   "cell_type": "code",
   "execution_count": 72,
   "metadata": {},
   "outputs": [],
   "source": [
    "save_model(ids_poly_cycle_1_DT,ids_poly_cycle_1_DT_name)"
   ]
  },
  {
   "cell_type": "markdown",
   "metadata": {},
   "source": [
    "### Cycle 2 "
   ]
  },
  {
   "cell_type": "code",
   "execution_count": 74,
   "metadata": {},
   "outputs": [],
   "source": [
    "df_poly_cycle_2_DT = pd.read_csv('poly_data_algo2_DT.csv')\n",
    "# Add label column with value one\n",
    "df_poly_cycle_2_DT['Label'] = np.ones(len(df_poly_cycle_2_DT))\n",
    "# Combine actual + adversarial + poly_ad\n",
    "df_poly_cycle_2_DT = pd.concat([df_DT_combine,df_poly_cycle_2_DT])\n",
    "y_cycle_2_DT = df_poly_cycle_2_DT['Label']\n",
    "X_cycle_2_DT = df_poly_cycle_2_DT.drop(['Label'],axis=1)"
   ]
  },
  {
   "cell_type": "code",
   "execution_count": 76,
   "metadata": {},
   "outputs": [
    {
     "data": {
      "text/plain": [
       "DecisionTreeClassifier()"
      ]
     },
     "execution_count": 76,
     "metadata": {},
     "output_type": "execute_result"
    }
   ],
   "source": [
    "ids_poly_cycle_2_DT = DecisionTreeClassifier()\n",
    "ids_poly_cycle_2_DT.fit(X_cycle_2_DT,y_cycle_2_DT)"
   ]
  },
  {
   "cell_type": "code",
   "execution_count": 77,
   "metadata": {},
   "outputs": [],
   "source": [
    "save_model(ids_poly_cycle_2_DT,ids_poly_cycle_2_DT_name)"
   ]
  },
  {
   "cell_type": "markdown",
   "metadata": {},
   "source": [
    "### Cycle 3 "
   ]
  },
  {
   "cell_type": "code",
   "execution_count": 83,
   "metadata": {},
   "outputs": [],
   "source": [
    "df_poly_cycle_3_DT = pd.read_csv('poly_data_algo2_DT.csv')\n",
    "# Add label column with value one\n",
    "df_poly_cycle_3_DT['Label'] = np.ones(len(df_poly_cycle_3_DT))\n",
    "# # Combine actual + adversarial + poly_ad\n",
    "df_poly_cycle_3_DT = pd.concat([df_DT_combine,df_poly_cycle_3_DT])\n",
    "y_cycle_3_DT = df_poly_cycle_3_DT['Label']\n",
    "X_cycle_3_DT = df_poly_cycle_3_DT.drop(['Label'],axis=1)"
   ]
  },
  {
   "cell_type": "code",
   "execution_count": 85,
   "metadata": {},
   "outputs": [
    {
     "data": {
      "text/plain": [
       "DecisionTreeClassifier()"
      ]
     },
     "execution_count": 85,
     "metadata": {},
     "output_type": "execute_result"
    }
   ],
   "source": [
    "ids_poly_cycle_3_DT = DecisionTreeClassifier()\n",
    "ids_poly_cycle_3_DT.fit(X_cycle_3_DT,y_cycle_3_DT)"
   ]
  },
  {
   "cell_type": "code",
   "execution_count": 86,
   "metadata": {},
   "outputs": [],
   "source": [
    "save_model(ids_poly_cycle_3_DT,ids_poly_cycle_3_DT_name)"
   ]
  },
  {
   "cell_type": "markdown",
   "metadata": {},
   "source": [
    "# SVM IDS Training "
   ]
  },
  {
   "cell_type": "code",
   "execution_count": 49,
   "metadata": {},
   "outputs": [],
   "source": [
    "df_SVM_ad = pd.read_csv('adv_data_SVM.csv')"
   ]
  },
  {
   "cell_type": "code",
   "execution_count": 50,
   "metadata": {},
   "outputs": [
    {
     "data": {
      "text/plain": [
       "(51200, 41)"
      ]
     },
     "execution_count": 50,
     "metadata": {},
     "output_type": "execute_result"
    }
   ],
   "source": [
    "df_SVM_ad.shape"
   ]
  },
  {
   "cell_type": "code",
   "execution_count": 51,
   "metadata": {},
   "outputs": [],
   "source": [
    "ids_SVM_name = 'ids_svm.sav'\n",
    "ids_SVM_ad_name = 'ids_svm_ad.sav'\n",
    "\n",
    "ids_ploy_5_SVM_name = 'ids_poly_5_SVM.sav'\n",
    "\n",
    "ids_ploy_10_SVM_name = 'ids_poly_10_SVM.sav'\n",
    "ids_ploy_15_SVM_name = 'ids_poly_15_SVM.sav'\n",
    "\n",
    "# IDS name for algorithm 2\n",
    "ids_poly_cycle_1_SVM_name = 'ids_cycle_1_SVM.sav'\n",
    "ids_poly_cycle_2_SVM_name = 'ids_cycle_2_SVM.sav'  \n",
    "ids_poly_cycle_3_SVM_name = 'ids_cycle_3_SVM.sav'"
   ]
  },
  {
   "cell_type": "markdown",
   "metadata": {},
   "source": [
    "####  SVM IDS training with training data + adversarial data     "
   ]
  },
  {
   "cell_type": "code",
   "execution_count": 52,
   "metadata": {},
   "outputs": [],
   "source": [
    "df_SVM_ad['Label'] = np.ones(len(df_SVM_ad))\n",
    "# Combine actual training data with adversarial data\n",
    "df_SVM_combine = pd.concat([df_SVM_ad,df_data])\n",
    "\n"
   ]
  },
  {
   "cell_type": "code",
   "execution_count": 17,
   "metadata": {},
   "outputs": [],
   "source": [
    "y_SVM = df_SVM_combine['Label']\n",
    "X_SVM = df_SVM_combine.drop(['Label'],axis=1)"
   ]
  },
  {
   "cell_type": "code",
   "execution_count": 18,
   "metadata": {},
   "outputs": [],
   "source": [
    "ids_adv_svm = LinearSVC()\n",
    "ids_adv_svm.fit(X_SVM,y_SVM)\n",
    "save_model(ids_adv_svm,ids_SVM_ad_name)"
   ]
  },
  {
   "cell_type": "markdown",
   "metadata": {},
   "source": [
    "#### IDS Training for Actual Training Data + Adversarial Data + Polymorphic Adversarial Data(Mutated 5 Features)  "
   ]
  },
  {
   "cell_type": "code",
   "execution_count": 30,
   "metadata": {},
   "outputs": [],
   "source": [
    "df_poly_ad_SVM = pd.read_csv('poly_ad_data_SVM.csv')\n",
    "# Add label column with value one\n",
    "df_poly_ad_SVM['Label'] = np.ones(len(df_poly_ad_SVM))\n",
    "# Combine actual + adversarial + poly_ad\n",
    "df_combine_poly_SVM = pd.concat([df_SVM_combine,df_poly_ad_SVM])"
   ]
  },
  {
   "cell_type": "code",
   "execution_count": 31,
   "metadata": {},
   "outputs": [
    {
     "data": {
      "text/plain": [
       "(51200, 42)"
      ]
     },
     "execution_count": 31,
     "metadata": {},
     "output_type": "execute_result"
    }
   ],
   "source": [
    "df_poly_ad_SVM.shape"
   ]
  },
  {
   "cell_type": "code",
   "execution_count": 32,
   "metadata": {},
   "outputs": [],
   "source": [
    "y_SVM_5 = df_combine_poly_SVM['Label']\n",
    "X_SVM_5 = df_combine_poly_SVM.drop(['Label'],axis=1)\n",
    "ids_poly5_SVM = LinearSVC()\n",
    "ids_poly5_SVM.fit(X_SVM_5,y_SVM_5)\n",
    "save_model(ids_poly5_SVM,ids_ploy_5_SVM_name)"
   ]
  },
  {
   "cell_type": "markdown",
   "metadata": {},
   "source": [
    "##### IDS Training for Actual Training Data + Adversarial Data + Polymorphic Adversarial Data(Mutated 10 Features) "
   ]
  },
  {
   "cell_type": "code",
   "execution_count": 33,
   "metadata": {},
   "outputs": [],
   "source": [
    "df_poly_10_SVM = pd.read_csv('poly_ad_data_SVM.csv')"
   ]
  },
  {
   "cell_type": "code",
   "execution_count": 34,
   "metadata": {},
   "outputs": [
    {
     "data": {
      "text/plain": [
       "(102400, 41)"
      ]
     },
     "execution_count": 34,
     "metadata": {},
     "output_type": "execute_result"
    }
   ],
   "source": [
    "df_poly_10_SVM.shape"
   ]
  },
  {
   "cell_type": "code",
   "execution_count": 35,
   "metadata": {},
   "outputs": [],
   "source": [
    "# Add label column with value one\n",
    "df_poly_10_SVM['Label'] = np.ones(len(df_poly_10_SVM))\n",
    "\n",
    "# Combine actual + adversarial + poly_ad\n",
    "df_combine_poly_10_SVM = pd.concat([df_SVM_combine,df_poly_10_SVM])\n",
    "y_10_SVM = df_combine_poly_10_SVM['Label']\n",
    "X_10_SVM = df_combine_poly_10_SVM.drop(['Label'],axis=1)"
   ]
  },
  {
   "cell_type": "code",
   "execution_count": 36,
   "metadata": {},
   "outputs": [],
   "source": [
    "ids_poly_10_SVM = LinearSVC()\n",
    "ids_poly_10_SVM.fit(X_10_SVM,y_10_SVM)\n",
    "save_model(ids_poly_10_SVM,ids_ploy_10_SVM_name)"
   ]
  },
  {
   "cell_type": "markdown",
   "metadata": {},
   "source": [
    "###### IDS Training for Actual Training Data + Adversarial Data + Polymorphic Adversarial Data(Mutated 15 Features)  "
   ]
  },
  {
   "cell_type": "code",
   "execution_count": 40,
   "metadata": {},
   "outputs": [],
   "source": [
    "df_poly_15_SVM = pd.read_csv('poly_ad_data_SVM.csv')"
   ]
  },
  {
   "cell_type": "code",
   "execution_count": 41,
   "metadata": {},
   "outputs": [],
   "source": [
    "# Add label column with value one\n",
    "df_poly_15_SVM['Label'] = np.ones(len(df_poly_15_SVM))\n",
    "\n",
    "# Combine actual + adversarial + poly_ad\n",
    "df_combine_poly_15_SVM = pd.concat([df_SVM_combine,df_poly_15_SVM])\n",
    "y_15_SVM = df_combine_poly_15_SVM['Label']\n",
    "X_15_SVM = df_combine_poly_15_SVM.drop(['Label'],axis=1)"
   ]
  },
  {
   "cell_type": "code",
   "execution_count": 43,
   "metadata": {},
   "outputs": [],
   "source": [
    "ids_poly_15_SVM = LinearSVC()\n",
    "ids_poly_15_SVM.fit(X_15_SVM,y_15_SVM)\n",
    "save_model(ids_poly_15_SVM,ids_ploy_15_SVM_name)"
   ]
  },
  {
   "cell_type": "markdown",
   "metadata": {},
   "source": [
    "## SVM - Algo 2 - IDS Training "
   ]
  },
  {
   "cell_type": "markdown",
   "metadata": {},
   "source": [
    "#### Cycle 1 "
   ]
  },
  {
   "cell_type": "code",
   "execution_count": 66,
   "metadata": {},
   "outputs": [],
   "source": [
    "df_poly_cycle_1_SVM = pd.read_csv('poly_data_algo2_SVM.csv')\n",
    "# Add label column with value one\n",
    "df_poly_cycle_1_SVM['Label'] = np.ones(len(df_poly_cycle_1_SVM))\n",
    "# Combine actual + adversarial + poly_ad\n",
    "df_combine_cycle_1_SVM = pd.concat([df_SVM_combine,df_poly_cycle_1_SVM])\n",
    "y_cycle_1_SVM = df_combine_cycle_1_SVM['Label']\n",
    "X_cycle_1_SVM = df_combine_cycle_1_SVM.drop(['Label'],axis=1)\n"
   ]
  },
  {
   "cell_type": "code",
   "execution_count": 68,
   "metadata": {},
   "outputs": [],
   "source": [
    "ids_poly_cycle_1_SVM = LinearSVC()\n",
    "ids_poly_cycle_1_SVM.fit(X_cycle_1_SVM,y_cycle_1_SVM)\n",
    "\n",
    "save_model(ids_poly_cycle_1_SVM,ids_poly_cycle_1_SVM_name)"
   ]
  },
  {
   "cell_type": "markdown",
   "metadata": {},
   "source": [
    "#### Cycle 2 "
   ]
  },
  {
   "cell_type": "code",
   "execution_count": 69,
   "metadata": {},
   "outputs": [],
   "source": [
    "df_poly_cycle_2_SVM = pd.read_csv('poly_data_algo2_SVM.csv')\n",
    "# Add label column with value one\n",
    "df_poly_cycle_2_SVM['Label'] = np.ones(len(df_poly_cycle_2_SVM))\n",
    "# Combine actual + adversarial + poly_ad\n",
    "df_combine_cycle_2_SVM = pd.concat([df_SVM_combine,df_poly_cycle_2_SVM])"
   ]
  },
  {
   "cell_type": "code",
   "execution_count": 70,
   "metadata": {},
   "outputs": [
    {
     "data": {
      "text/plain": [
       "(102400, 42)"
      ]
     },
     "execution_count": 70,
     "metadata": {},
     "output_type": "execute_result"
    }
   ],
   "source": [
    "df_poly_cycle_2_SVM.shape"
   ]
  },
  {
   "cell_type": "code",
   "execution_count": 71,
   "metadata": {},
   "outputs": [
    {
     "data": {
      "text/plain": [
       "LinearSVC()"
      ]
     },
     "execution_count": 71,
     "metadata": {},
     "output_type": "execute_result"
    }
   ],
   "source": [
    "y_cycle_2_SVM = df_combine_cycle_2_SVM['Label']\n",
    "X_cycle_2_SVM = df_combine_cycle_2_SVM.drop(['Label'],axis=1)\n",
    "ids_poly_cycle_2_SVM = LinearSVC()\n",
    "ids_poly_cycle_2_SVM.fit(X_cycle_2_SVM,y_cycle_2_SVM)"
   ]
  },
  {
   "cell_type": "code",
   "execution_count": 72,
   "metadata": {},
   "outputs": [],
   "source": [
    "save_model(ids_poly_cycle_2_SVM,ids_poly_cycle_2_SVM_name)"
   ]
  },
  {
   "cell_type": "markdown",
   "metadata": {},
   "source": [
    "#### Cycle 3 "
   ]
  },
  {
   "cell_type": "code",
   "execution_count": 74,
   "metadata": {},
   "outputs": [],
   "source": [
    "df_poly_cycle_3_SVM = pd.read_csv('poly_data_algo2_SVM.csv')\n",
    "# Add label column with value one\n",
    "df_poly_cycle_3_SVM['Label'] = np.ones(len(df_poly_cycle_3_SVM))\n",
    "# # Combine actual + adversarial + poly_ad\n",
    "df_poly_cycle_3_SVM = pd.concat([df_SVM_combine,df_poly_cycle_3_SVM])\n",
    "y_cycle_3_SVM = df_poly_cycle_3_SVM['Label']\n",
    "X_cycle_3_SVM = df_poly_cycle_3_SVM.drop(['Label'],axis=1)\n"
   ]
  },
  {
   "cell_type": "code",
   "execution_count": 75,
   "metadata": {},
   "outputs": [],
   "source": [
    "ids_poly_cycle_3_SVM = LinearSVC()\n",
    "ids_poly_cycle_3_SVM.fit(X_cycle_3_SVM,y_cycle_3_SVM)\n",
    "save_model(ids_poly_cycle_3_SVM,ids_poly_cycle_3_SVM_name)"
   ]
  },
  {
   "cell_type": "markdown",
   "metadata": {},
   "source": [
    "# KNN  IDS Training"
   ]
  },
  {
   "cell_type": "code",
   "execution_count": 96,
   "metadata": {},
   "outputs": [],
   "source": [
    "df_KNN_ad = pd.read_csv('adv_data_knn.csv')"
   ]
  },
  {
   "cell_type": "code",
   "execution_count": 97,
   "metadata": {},
   "outputs": [],
   "source": [
    "ids_KNN_name = 'ids_knn.sav'\n",
    "ids_KNN_ad_name = 'ids_knn_ad.sav'\n",
    "ids_ploy_5_KNN_name = 'ids_knn_poly_5.sav'\n",
    "ids_ploy_10_KNN_name = 'ids_knn_poly_10.sav'\n",
    "\n",
    "\n",
    "\n",
    "# IDS name for algorithm 2\n",
    "ids_poly_cycle_1_KNN_name = 'ids_cycle_1_KNN.sav'\n",
    "ids_poly_cycle_2_KNN_name = 'ids_cycle_2_KNN.sav'  \n",
    "ids_poly_cycle_3_KNN_name = 'ids_cycle_3_KNN.sav'"
   ]
  },
  {
   "cell_type": "code",
   "execution_count": 98,
   "metadata": {},
   "outputs": [],
   "source": [
    "df_KNN_ad['Label'] = np.ones(len(df_KNN_ad))\n",
    "# Combine actual training data with adversarial data\n",
    "df_KNN_combine = pd.concat([df_KNN_ad,df_data])\n"
   ]
  },
  {
   "cell_type": "markdown",
   "metadata": {},
   "source": [
    "#### KNN IDS training with training data + adversarial data  "
   ]
  },
  {
   "cell_type": "code",
   "execution_count": 23,
   "metadata": {},
   "outputs": [],
   "source": [
    "y_KNN = df_KNN_combine['Label']\n",
    "X_KNN = df_KNN_combine.drop(['Label'],axis=1)\n",
    "\n",
    "ids_adv_KNN = KNeighborsClassifier()\n",
    "ids_adv_KNN.fit(X_KNN,y_KNN)\n",
    "save_model(ids_adv_KNN,ids_KNN_ad_name)"
   ]
  },
  {
   "cell_type": "markdown",
   "metadata": {},
   "source": [
    "#### KNN IDS Training  Actual Training Data + Adversarial Data + Polymorphic Adversarial Data(Mutated 5 Features) "
   ]
  },
  {
   "cell_type": "code",
   "execution_count": 14,
   "metadata": {},
   "outputs": [],
   "source": [
    "df_poly_knn = pd.read_csv('poly_ad_data_KNN.csv')\n",
    "# Add label column with value one\n",
    "df_poly_knn['Label'] = np.ones(len(df_poly_knn))\n",
    "# Combine actual + adversarial + poly_ad\n",
    "df_combine_poly_5_knn = pd.concat([df_KNN_combine,df_poly_knn])"
   ]
  },
  {
   "cell_type": "code",
   "execution_count": 15,
   "metadata": {},
   "outputs": [],
   "source": [
    "y_KNN_5 = df_combine_poly_5_knn['Label']\n",
    "X_KNN_5 = df_combine_poly_5_knn.drop(['Label'],axis=1)\n",
    "ids_poly5_KNN = KNeighborsClassifier()\n",
    "ids_poly5_KNN.fit(X_KNN_5,y_KNN_5)\n",
    "save_model(ids_poly5_KNN,ids_ploy_5_KNN_name)\n"
   ]
  },
  {
   "cell_type": "markdown",
   "metadata": {},
   "source": [
    "###  KNN IDS Training  Actual Training Data + Adversarial Data + Polymorphic Adversarial Data(Mutated 10 Features)  "
   ]
  },
  {
   "cell_type": "code",
   "execution_count": 25,
   "metadata": {},
   "outputs": [],
   "source": [
    "df_poly_knn = pd.read_csv('poly_ad_data_KNN.csv')\n",
    "# Add label column with value one\n",
    "df_poly_knn['Label'] = np.ones(len(df_poly_knn))\n",
    "# Combine actual + adversarial + poly_ad\n",
    "df_combine_poly_10_knn = pd.concat([df_KNN_combine,df_poly_knn])"
   ]
  },
  {
   "cell_type": "code",
   "execution_count": 26,
   "metadata": {},
   "outputs": [],
   "source": [
    "y_KNN_10 = df_combine_poly_10_knn['Label']\n",
    "X_KNN_10 = df_combine_poly_10_knn.drop(['Label'],axis=1)\n",
    "ids_poly10_KNN = KNeighborsClassifier()\n",
    "ids_poly10_KNN.fit(X_KNN_10,y_KNN_10)\n",
    "save_model(ids_poly10_KNN,ids_ploy_10_KNN_name)"
   ]
  },
  {
   "cell_type": "markdown",
   "metadata": {},
   "source": [
    "# KNN Algorithm 2"
   ]
  },
  {
   "cell_type": "markdown",
   "metadata": {},
   "source": [
    "### Cycle 1 "
   ]
  },
  {
   "cell_type": "code",
   "execution_count": 99,
   "metadata": {},
   "outputs": [],
   "source": [
    "df_poly_cycle_1_KNN = pd.read_csv('poly_data_algo2_KNN.csv')\n",
    "# Add label column with value one\n",
    "df_poly_cycle_1_KNN['Label'] = np.ones(len(df_poly_cycle_1_KNN))\n",
    "# Combine actual + adversarial + poly_ad\n",
    "df_combine_cycle_1_KNN = pd.concat([df_KNN_combine,df_poly_cycle_1_KNN])\n",
    "y_cycle_1_KNN = df_combine_cycle_1_KNN['Label']\n",
    "X_cycle_1_KNN = df_combine_cycle_1_KNN.drop(['Label'],axis=1)"
   ]
  },
  {
   "cell_type": "code",
   "execution_count": 101,
   "metadata": {},
   "outputs": [
    {
     "data": {
      "text/plain": [
       "(679469, 42)"
      ]
     },
     "execution_count": 101,
     "metadata": {},
     "output_type": "execute_result"
    }
   ],
   "source": [
    "df_combine_cycle_1_KNN.shape"
   ]
  },
  {
   "cell_type": "code",
   "execution_count": 102,
   "metadata": {},
   "outputs": [],
   "source": [
    "ids_poly_cycle_1_KNN = KNeighborsClassifier()\n",
    "ids_poly_cycle_1_KNN.fit(X_cycle_1_KNN,y_cycle_1_KNN)\n",
    "\n",
    "save_model(ids_poly_cycle_1_KNN,ids_poly_cycle_1_KNN_name)"
   ]
  },
  {
   "cell_type": "markdown",
   "metadata": {},
   "source": [
    "# Naive Byes IDS Training "
   ]
  },
  {
   "cell_type": "markdown",
   "metadata": {},
   "source": [
    "## Algorithm 1"
   ]
  },
  {
   "cell_type": "code",
   "execution_count": 5,
   "metadata": {},
   "outputs": [],
   "source": [
    "df_NB_ad = pd.read_csv('adv_data_NB.csv')\n"
   ]
  },
  {
   "cell_type": "code",
   "execution_count": 9,
   "metadata": {},
   "outputs": [],
   "source": [
    "ids_NB_name = 'ids_nb.sav'\n",
    "\n",
    "ids_NB_ad_name = 'ids_NB_ad.sav'\n",
    "\n",
    "# ids_ploy_5_DT_name = 'ids_poly_5_DT.sav'\n",
    "\n",
    "# ids_ploy_ad_10_name = 'ids_poly_10_DT.sav'\n",
    "ids_ploy_15_NB_name = 'ids_poly_15_NB.sav'\n",
    "\n",
    "# # IDS name for algorithm 2\n",
    "# ids_poly_cycle_1_DT_name = 'ids_cycle_1_DT.sav'\n",
    "# ids_poly_cycle_2_DT_name = 'ids_cycle_2_DT.sav'\n",
    "ids_poly_cycle_3_NB_name = 'ids_cycle_3_NB.sav'\n"
   ]
  },
  {
   "cell_type": "markdown",
   "metadata": {},
   "source": [
    "##### IDS training with training data + adversarial data   "
   ]
  },
  {
   "cell_type": "code",
   "execution_count": 7,
   "metadata": {},
   "outputs": [
    {
     "name": "stdout",
     "output_type": "stream",
     "text": [
      "400402\n",
      "279067\n"
     ]
    }
   ],
   "source": [
    "df_NB_ad['Label'] = np.ones(len(df_NB_ad))\n",
    "# Combine actual training data with adversarial data\n",
    "df_NB_combine = pd.concat([df_NB_ad,df_data])\n",
    "\n",
    "print(df_NB_combine[df_NB_combine['Label'] == 0]['Label'].count())\n",
    "print(df_NB_combine[df_NB_combine['Label'] == 1]['Label'].count())\n",
    "\n",
    "\n",
    "y_NB = df_NB_combine['Label']\n",
    "X_NB = df_NB_combine.drop(['Label'],axis=1)"
   ]
  },
  {
   "cell_type": "code",
   "execution_count": 90,
   "metadata": {},
   "outputs": [],
   "source": [
    "ids_adv_NB = GaussianNB()\n",
    "ids_adv_NB.fit(X_NB,y_NB)\n",
    "save_model(ids_adv_NB,ids_NB_ad_name)"
   ]
  },
  {
   "cell_type": "markdown",
   "metadata": {},
   "source": [
    "###### IDS training  training data + adversarial data  + poly 15 data  "
   ]
  },
  {
   "cell_type": "code",
   "execution_count": 121,
   "metadata": {},
   "outputs": [
    {
     "data": {
      "text/plain": [
       "(153600, 42)"
      ]
     },
     "execution_count": 121,
     "metadata": {},
     "output_type": "execute_result"
    }
   ],
   "source": [
    "df_poly_ad_NB.shape"
   ]
  },
  {
   "cell_type": "code",
   "execution_count": 120,
   "metadata": {},
   "outputs": [],
   "source": [
    "df_poly_ad_NB = pd.read_csv('poly_ad_data_NB.csv')\n",
    "# Add label column with value one\n",
    "df_poly_ad_NB['Label'] = np.ones(len(df_poly_ad_NB))\n",
    "# Combine actual + adversarial + poly_ad\n",
    "df_combine_poly_NB = pd.concat([df_NB_combine,df_poly_ad_NB])\n"
   ]
  },
  {
   "cell_type": "code",
   "execution_count": 122,
   "metadata": {},
   "outputs": [],
   "source": [
    "y_NB_15 = df_combine_poly_NB['Label']\n",
    "X_NB_15 = df_combine_poly_NB.drop(['Label'],axis=1)\n",
    "ids_poly15_NB = GaussianNB()\n",
    "ids_poly15_NB.fit(X_NB_15,y_NB_15)\n",
    "save_model(ids_poly15_NB,ids_ploy_15_NB_name)"
   ]
  },
  {
   "cell_type": "markdown",
   "metadata": {},
   "source": [
    "### Algorithm 2 "
   ]
  },
  {
   "cell_type": "code",
   "execution_count": 8,
   "metadata": {},
   "outputs": [],
   "source": [
    "df_poly_cycle_3_NB = pd.read_csv('poly_data_algo2_NB.csv')\n",
    "# Add label column with value one\n",
    "df_poly_cycle_3_NB['Label'] = np.ones(len(df_poly_cycle_3_NB))\n",
    "# Combine actual + adversarial + poly_ad\n",
    "df_combine_cycle_3_NB = pd.concat([df_NB_combine,df_poly_cycle_3_NB])\n"
   ]
  },
  {
   "cell_type": "code",
   "execution_count": 10,
   "metadata": {},
   "outputs": [],
   "source": [
    "y_NB_cycle_3 = df_combine_cycle_3_NB['Label']\n",
    "X_NB_cycle_3 = df_combine_cycle_3_NB.drop(['Label'],axis=1)\n",
    "ids_poly_cycle_3_NB = GaussianNB()\n",
    "ids_poly_cycle_3_NB.fit(X_NB_cycle_3,y_NB_cycle_3)\n",
    "save_model(ids_poly_cycle_3_NB,ids_poly_cycle_3_NB_name)"
   ]
  }
 ],
 "metadata": {
  "kernelspec": {
   "display_name": "Python 3",
   "language": "python",
   "name": "python3"
  },
  "language_info": {
   "codemirror_mode": {
    "name": "ipython",
    "version": 3
   },
   "file_extension": ".py",
   "mimetype": "text/x-python",
   "name": "python",
   "nbconvert_exporter": "python",
   "pygments_lexer": "ipython3",
   "version": "3.8.3"
  }
 },
 "nbformat": 4,
 "nbformat_minor": 4
}
